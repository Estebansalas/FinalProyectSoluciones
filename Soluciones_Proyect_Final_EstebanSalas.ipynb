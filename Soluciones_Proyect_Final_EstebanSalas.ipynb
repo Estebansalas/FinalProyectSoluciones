{
  "nbformat": 4,
  "nbformat_minor": 0,
  "metadata": {
    "colab": {
      "name": "Soluciones_Proyect_Final_EstebanSalas.ipynb",
      "provenance": [],
      "collapsed_sections": []
    },
    "kernelspec": {
      "name": "python3",
      "display_name": "Python 3"
    },
    "language_info": {
      "name": "python"
    }
  },
  "cells": [
    {
      "cell_type": "code",
      "metadata": {
        "colab": {
          "base_uri": "https://localhost:8080/",
          "height": 265
        },
        "id": "fkDAZwvN8L1d",
        "outputId": "45302277-e556-4fdd-8f3d-f5e234cea619"
      },
      "source": [
        "import torch\n",
        "import matplotlib.pyplot as plt\n",
        " \n",
        "x = torch.unsqueeze(torch.linspace(-1, 1, 100), dim=1)  # x data (tensor), shape=(100, 1)\n",
        "y = x.pow(2) + 0.2*torch.rand(x.size())                 # noisy y data (tensor), shape=(100, 1)\n",
        " \n",
        " # Dibujar\n",
        "plt.scatter(x.data.numpy(), y.data.numpy())\n",
        "plt.show()"
      ],
      "execution_count": 1,
      "outputs": [
        {
          "output_type": "display_data",
          "data": {
            "image/png": "[encoded data removed]",
            "text/plain": [
              "<Figure size 432x288 with 1 Axes>"
            ]
          },
          "metadata": {
            "needs_background": "light"
          }
        }
      ]
    },
    {
      "cell_type": "code",
      "metadata": {
        "colab": {
          "base_uri": "https://localhost:8080/"
        },
        "id": "i17il5fy9j2C",
        "outputId": "3b50359a-5492-4f5b-e8f1-05733fa04e31"
      },
      "source": [
        "from torch import FloatTensor\n",
        "from torch.autograd import Variable\n",
        "import torch\n",
        " \n",
        "# Se definen los nodos\n",
        "a1 = Variable(FloatTensor([4]))\n",
        "a2 = Variable(FloatTensor([3]))\n",
        " \n",
        "# Variables con grandientes definidas\n",
        "w=Variable(FloatTensor([2,5,9,7,3]), requires_grad=True)\n",
        " \n",
        "b1 = w[0] * a1 + w[1] * a2 #b1=2*4+5*3=23\n",
        "b2 = w[2] * a1 #b2=9*4=36\n",
        "c = w[3] * b1 + w[4] * b2\n",
        "L = (15 - c)\n",
        " \n",
        "L.backward()\n",
        " \n",
        "gradient = w.grad.data\n",
        "for i in range(0, 5):\n",
        "    print(f\"Gradiente de w{i} respecto a L: {gradient[i]}\")"
      ],
      "execution_count": 4,
      "outputs": [
        {
          "output_type": "stream",
          "name": "stdout",
          "text": [
            "Gradiente de w0 respecto a L: -28.0\n",
            "Gradiente de w1 respecto a L: -21.0\n",
            "Gradiente de w2 respecto a L: -12.0\n",
            "Gradiente de w3 respecto a L: -23.0\n",
            "Gradiente de w4 respecto a L: -36.0\n"
          ]
        }
      ]
    }
  ]
}